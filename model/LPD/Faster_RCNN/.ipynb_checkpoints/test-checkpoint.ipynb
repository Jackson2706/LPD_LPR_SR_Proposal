{
 "cells": [
  {
   "metadata": {
    "ExecuteTime": {
     "end_time": "2024-10-24T04:54:49.177059Z",
     "start_time": "2024-10-24T04:54:49.166058Z"
    }
   },
   "cell_type": "code",
   "source": [
    "from torchvision import transforms\n",
    "from torch.utils.data import DataLoader, Dataset\n",
    "import torch\n",
    "from PIL import Image\n",
    "import os\n",
    "\n",
    "\n",
    "class LicensePlateDataset(Dataset):\n",
    "    '''\n",
    "    A Pytorch Dataset class to load images, bounding boxes, and keypoints lazily.\n",
    "    Returns:\n",
    "    images: torch.Tensor of size (C, H, W)\n",
    "    gt_bboxes: torch.Tensor of size (max_objects, 4)\n",
    "    gt_keypoints: torch.Tensor of size (max_objects, 8) # 8 for 4 keypoints (x1, y1, x2, y2, x3, y3, x4, y4)\n",
    "    gt_classes: torch.Tensor of size (max_objects)\n",
    "    '''\n",
    "    def __init__(self, img_dir, label_dir, transform=None):\n",
    "        self.img_dir = img_dir\n",
    "        self.label_dir = label_dir\n",
    "        self.transform = transform\n",
    "\n",
    "        self.img_paths = sorted([os.path.join(img_dir, img) for img in os.listdir(img_dir)])\n",
    "        self.label_paths = sorted([os.path.join(label_dir, label) for label in os.listdir(label_dir)])\n",
    "\n",
    "    def __len__(self):\n",
    "        return len(self.img_paths)\n",
    "\n",
    "    def __getitem__(self, idx):\n",
    "        # Load image lazily\n",
    "        img_path = self.img_paths[idx]\n",
    "        img = Image.open(img_path).convert('RGB')\n",
    "        if self.transform:\n",
    "            img_tensor = self.transform(img)\n",
    "\n",
    "        label_path = self.label_paths[idx]\n",
    "        gt_boxes, gt_keypoints, gt_classes = self.parse_annotation(label_path)\n",
    "\n",
    "        return img_tensor, gt_boxes, gt_keypoints, gt_classes\n",
    "\n",
    "    def parse_annotation(self, label_path):\n",
    "        gt_boxes_all = []\n",
    "        gt_keypoints_all = []\n",
    "        gt_classes_all = []\n",
    "\n",
    "        with open(label_path, \"r\") as f:\n",
    "            lines = f.readlines()\n",
    "\n",
    "        for line in lines:\n",
    "            line_split = line.strip().split()\n",
    "            # Extract keypoints\n",
    "            x1, y1, x2, y2, x3, y3, x4, y4 = map(float, line_split[1:])\n",
    "\n",
    "            # Bounding box calculation\n",
    "            x_min = min(x1, x2, x3, x4)\n",
    "            y_min = min(y1, y2, y3, y4)\n",
    "            x_max = max(x1, x2, x3, x4)\n",
    "            y_max = max(y1, y2, y3, y4)\n",
    "            bbox = torch.Tensor([x_min, y_min, x_max, y_max])\n",
    "\n",
    "            # Keypoints as a flat array of 8 values (x1, y1, x2, y2, x3, y3, x4, y4)\n",
    "            keypoints = torch.Tensor([x1, y1, x2, y2, x3, y3, x4, y4])\n",
    "\n",
    "            gt_boxes_all.append(bbox)\n",
    "            gt_keypoints_all.append(keypoints)\n",
    "            gt_classes_all.append(0)  # Single class for license plates\n",
    "\n",
    "        gt_boxes = torch.stack(gt_boxes_all)\n",
    "        gt_keypoints = torch.stack(gt_keypoints_all)\n",
    "        gt_classes = torch.tensor(gt_classes_all)\n",
    "\n",
    "        return gt_boxes, gt_keypoints, gt_classes"
   ],
   "outputs": [],
   "execution_count": 3
  },
  {
   "metadata": {},
   "cell_type": "code",
   "outputs": [],
   "execution_count": null,
   "source": [
    "from torchvision import transforms\n",
    "\n",
    "\n",
    "transform = transforms.Compose([\n",
    "            transforms.ToTensor(),\n",
    "            transforms.Resize((1280, 720))\n",
    "        ])\n",
    "\n",
    "train_data = LicensePlateDataset(\"C:\\\\Users\\\\hieuh\\\\Downloads\\\\Project\\\\Faster_RCNN\\\\dataset\\\\1_batch\\\\images\", \"C:\\\\Users\\\\hieuh\\\\Downloads\\\\Project\\\\Faster_RCNN\\\\dataset\\\\1_batch\\\\labels\", transform= transform)\n",
    "train_loader = DataLoader(train_data, 2)"
   ]
  },
  {
   "metadata": {
    "ExecuteTime": {
     "end_time": "2024-10-24T04:54:49.208065Z",
     "start_time": "2024-10-24T04:54:49.191058Z"
    }
   },
   "cell_type": "code",
   "source": "",
   "outputs": [],
   "execution_count": null
  }
 ],
 "metadata": {
  "kernelspec": {
   "display_name": "Python 3",
   "language": "python",
   "name": "python3"
  },
  "language_info": {
   "codemirror_mode": {
    "name": "ipython",
    "version": 3
   },
   "file_extension": ".py",
   "mimetype": "text/x-python",
   "name": "python",
   "nbconvert_exporter": "python",
   "pygments_lexer": "ipython3",
   "version": "3.12.5"
  }
 },
 "nbformat": 4,
 "nbformat_minor": 2
}
